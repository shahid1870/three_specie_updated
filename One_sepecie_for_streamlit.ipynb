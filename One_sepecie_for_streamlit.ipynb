{
 "cells": [
  {
   "cell_type": "markdown",
   "metadata": {},
   "source": [
    "## Importing Librareis"
   ]
  },
  {
   "cell_type": "code",
   "execution_count": 1,
   "metadata": {},
   "outputs": [
    {
     "name": "stderr",
     "output_type": "stream",
     "text": [
      "c:\\Users\\AbdulRaheemShahzad\\anaconda3\\lib\\site-packages\\scipy\\__init__.py:146: UserWarning: A NumPy version >=1.16.5 and <1.23.0 is required for this version of SciPy (detected version 1.24.3\n",
      "  warnings.warn(f\"A NumPy version >={np_minversion} and <{np_maxversion}\"\n"
     ]
    }
   ],
   "source": [
    "import numpy as np\n",
    "import pandas as pd\n",
    "from scipy import stats\n",
    "from sklearn.model_selection import train_test_split, GridSearchCV\n",
    "from sklearn.linear_model import Ridge, Lasso, ElasticNet, LinearRegression\n",
    "from sklearn.multioutput import MultiOutputRegressor\n",
    "from sklearn.ensemble import RandomForestRegressor\n",
    "from sklearn.ensemble import VotingClassifier\n",
    "#import decision_tree_regressor as dtr\n",
    "import matplotlib.pyplot as plt\n",
    "import seaborn as sns\n",
    "from sklearn.metrics import mean_squared_error, r2_score\n",
    "from sklearn.preprocessing import StandardScaler\n",
    "from sklearn.decomposition import PCA\n",
    "from sklearn.pipeline import Pipeline\n",
    "from sklearn.svm import SVR\n",
    "from sklearn.neural_network import MLPRegressor\n",
    "from sklearn.neighbors import KNeighborsRegressor\n",
    "from sklearn.gaussian_process import GaussianProcessRegressor\n",
    "from sklearn.gaussian_process.kernels import DotProduct, WhiteKernel\n",
    "from sklearn.ensemble import GradientBoostingRegressor\n",
    "from sklearn.ensemble import AdaBoostRegressor\n",
    "from sklearn.tree import DecisionTreeRegressor\n",
    "from sklearn.ensemble import BaggingRegressor\n",
    "from sklearn.ensemble import ExtraTreesRegressor\n",
    "from xgboost import XGBRegressor\n",
    "from sklearn.linear_model import Ridge"
   ]
  },
  {
   "cell_type": "markdown",
   "metadata": {},
   "source": [
    "## Reading Dataset"
   ]
  },
  {
   "cell_type": "code",
   "execution_count": 2,
   "metadata": {},
   "outputs": [
    {
     "data": {
      "text/html": [
       "<div>\n",
       "<style scoped>\n",
       "    .dataframe tbody tr th:only-of-type {\n",
       "        vertical-align: middle;\n",
       "    }\n",
       "\n",
       "    .dataframe tbody tr th {\n",
       "        vertical-align: top;\n",
       "    }\n",
       "\n",
       "    .dataframe thead th {\n",
       "        text-align: right;\n",
       "    }\n",
       "</style>\n",
       "<table border=\"1\" class=\"dataframe\">\n",
       "  <thead>\n",
       "    <tr style=\"text-align: right;\">\n",
       "      <th></th>\n",
       "      <th>FID</th>\n",
       "      <th>latitude_c</th>\n",
       "      <th>longitude_c</th>\n",
       "      <th>species</th>\n",
       "      <th>Present_Surface_Temperature_Max_asc</th>\n",
       "      <th>Present_Surface_Salinity_Mean_asc</th>\n",
       "      <th>Present_Surface_Salinity_max_asc</th>\n",
       "    </tr>\n",
       "  </thead>\n",
       "  <tbody>\n",
       "    <tr>\n",
       "      <th>0</th>\n",
       "      <td>0</td>\n",
       "      <td>43.0536</td>\n",
       "      <td>144.9063</td>\n",
       "      <td>Halodule uninervis</td>\n",
       "      <td>18.897499</td>\n",
       "      <td>32.2477</td>\n",
       "      <td>33.081501</td>\n",
       "    </tr>\n",
       "    <tr>\n",
       "      <th>1</th>\n",
       "      <td>1</td>\n",
       "      <td>43.0566</td>\n",
       "      <td>144.9061</td>\n",
       "      <td>Halodule uninervis</td>\n",
       "      <td>18.897499</td>\n",
       "      <td>32.2477</td>\n",
       "      <td>33.081501</td>\n",
       "    </tr>\n",
       "    <tr>\n",
       "      <th>2</th>\n",
       "      <td>2</td>\n",
       "      <td>43.0585</td>\n",
       "      <td>144.9060</td>\n",
       "      <td>Halodule uninervis</td>\n",
       "      <td>18.897499</td>\n",
       "      <td>32.2477</td>\n",
       "      <td>33.081501</td>\n",
       "    </tr>\n",
       "    <tr>\n",
       "      <th>3</th>\n",
       "      <td>3</td>\n",
       "      <td>43.0621</td>\n",
       "      <td>144.9059</td>\n",
       "      <td>Halodule uninervis</td>\n",
       "      <td>18.897499</td>\n",
       "      <td>32.2477</td>\n",
       "      <td>33.081501</td>\n",
       "    </tr>\n",
       "    <tr>\n",
       "      <th>4</th>\n",
       "      <td>4</td>\n",
       "      <td>43.0639</td>\n",
       "      <td>144.9059</td>\n",
       "      <td>Halodule uninervis</td>\n",
       "      <td>18.897499</td>\n",
       "      <td>32.2477</td>\n",
       "      <td>33.081501</td>\n",
       "    </tr>\n",
       "  </tbody>\n",
       "</table>\n",
       "</div>"
      ],
      "text/plain": [
       "   FID  latitude_c  longitude_c             species  \\\n",
       "0    0     43.0536     144.9063  Halodule uninervis   \n",
       "1    1     43.0566     144.9061  Halodule uninervis   \n",
       "2    2     43.0585     144.9060  Halodule uninervis   \n",
       "3    3     43.0621     144.9059  Halodule uninervis   \n",
       "4    4     43.0639     144.9059  Halodule uninervis   \n",
       "\n",
       "   Present_Surface_Temperature_Max_asc  Present_Surface_Salinity_Mean_asc  \\\n",
       "0                            18.897499                            32.2477   \n",
       "1                            18.897499                            32.2477   \n",
       "2                            18.897499                            32.2477   \n",
       "3                            18.897499                            32.2477   \n",
       "4                            18.897499                            32.2477   \n",
       "\n",
       "   Present_Surface_Salinity_max_asc  \n",
       "0                         33.081501  \n",
       "1                         33.081501  \n",
       "2                         33.081501  \n",
       "3                         33.081501  \n",
       "4                         33.081501  "
      ]
     },
     "execution_count": 2,
     "metadata": {},
     "output_type": "execute_result"
    }
   ],
   "source": [
    "# Read the data from the xlsx file\n",
    "df = pd.read_excel('one_specie.xlsx', sheet_name='Export_Output_3')\n",
    "df.head()"
   ]
  },
  {
   "cell_type": "markdown",
   "metadata": {},
   "source": [
    "## Cehcking Null values"
   ]
  },
  {
   "cell_type": "code",
   "execution_count": 3,
   "metadata": {},
   "outputs": [
    {
     "data": {
      "text/plain": [
       "FID                                    0\n",
       "latitude_c                             0\n",
       "longitude_c                            0\n",
       "species                                0\n",
       "Present_Surface_Temperature_Max_asc    0\n",
       "Present_Surface_Salinity_Mean_asc      0\n",
       "Present_Surface_Salinity_max_asc       0\n",
       "dtype: int64"
      ]
     },
     "execution_count": 3,
     "metadata": {},
     "output_type": "execute_result"
    }
   ],
   "source": [
    "#checking null values\n",
    "df.isnull().sum()"
   ]
  },
  {
   "cell_type": "code",
   "execution_count": 4,
   "metadata": {},
   "outputs": [],
   "source": [
    "#drop FID\n",
    "df.drop(['FID'], axis=1, inplace=True)"
   ]
  },
  {
   "cell_type": "code",
   "execution_count": 5,
   "metadata": {},
   "outputs": [
    {
     "data": {
      "text/plain": [
       "(80407, 6)"
      ]
     },
     "execution_count": 5,
     "metadata": {},
     "output_type": "execute_result"
    }
   ],
   "source": [
    "#shape of the data\n",
    "df.shape"
   ]
  },
  {
   "cell_type": "code",
   "execution_count": 6,
   "metadata": {},
   "outputs": [
    {
     "data": {
      "text/html": [
       "<div>\n",
       "<style scoped>\n",
       "    .dataframe tbody tr th:only-of-type {\n",
       "        vertical-align: middle;\n",
       "    }\n",
       "\n",
       "    .dataframe tbody tr th {\n",
       "        vertical-align: top;\n",
       "    }\n",
       "\n",
       "    .dataframe thead th {\n",
       "        text-align: right;\n",
       "    }\n",
       "</style>\n",
       "<table border=\"1\" class=\"dataframe\">\n",
       "  <thead>\n",
       "    <tr style=\"text-align: right;\">\n",
       "      <th></th>\n",
       "      <th>latitude_c</th>\n",
       "      <th>longitude_c</th>\n",
       "      <th>Present_Surface_Temperature_Max_asc</th>\n",
       "      <th>Present_Surface_Salinity_Mean_asc</th>\n",
       "      <th>Present_Surface_Salinity_max_asc</th>\n",
       "    </tr>\n",
       "  </thead>\n",
       "  <tbody>\n",
       "    <tr>\n",
       "      <th>count</th>\n",
       "      <td>80407.000000</td>\n",
       "      <td>80407.000000</td>\n",
       "      <td>80407.000000</td>\n",
       "      <td>80407.000000</td>\n",
       "      <td>80407.000000</td>\n",
       "    </tr>\n",
       "    <tr>\n",
       "      <th>mean</th>\n",
       "      <td>-11.121555</td>\n",
       "      <td>146.201751</td>\n",
       "      <td>-554.930742</td>\n",
       "      <td>-548.574565</td>\n",
       "      <td>-547.954825</td>\n",
       "    </tr>\n",
       "    <tr>\n",
       "      <th>std</th>\n",
       "      <td>20.951473</td>\n",
       "      <td>7.841823</td>\n",
       "      <td>2346.726344</td>\n",
       "      <td>2348.304935</td>\n",
       "      <td>2348.458900</td>\n",
       "    </tr>\n",
       "    <tr>\n",
       "      <th>min</th>\n",
       "      <td>-32.050000</td>\n",
       "      <td>-175.152556</td>\n",
       "      <td>-9999.000000</td>\n",
       "      <td>-9999.000000</td>\n",
       "      <td>-9999.000000</td>\n",
       "    </tr>\n",
       "    <tr>\n",
       "      <th>25%</th>\n",
       "      <td>-23.733630</td>\n",
       "      <td>145.770950</td>\n",
       "      <td>27.760700</td>\n",
       "      <td>34.939999</td>\n",
       "      <td>35.481400</td>\n",
       "    </tr>\n",
       "    <tr>\n",
       "      <th>50%</th>\n",
       "      <td>-19.243890</td>\n",
       "      <td>146.886820</td>\n",
       "      <td>28.644100</td>\n",
       "      <td>35.209400</td>\n",
       "      <td>35.804901</td>\n",
       "    </tr>\n",
       "    <tr>\n",
       "      <th>75%</th>\n",
       "      <td>-16.758390</td>\n",
       "      <td>151.160540</td>\n",
       "      <td>29.506100</td>\n",
       "      <td>35.383999</td>\n",
       "      <td>36.019199</td>\n",
       "    </tr>\n",
       "    <tr>\n",
       "      <th>max</th>\n",
       "      <td>43.067600</td>\n",
       "      <td>178.515000</td>\n",
       "      <td>34.519199</td>\n",
       "      <td>40.137600</td>\n",
       "      <td>40.922298</td>\n",
       "    </tr>\n",
       "  </tbody>\n",
       "</table>\n",
       "</div>"
      ],
      "text/plain": [
       "         latitude_c   longitude_c  Present_Surface_Temperature_Max_asc  \\\n",
       "count  80407.000000  80407.000000                         80407.000000   \n",
       "mean     -11.121555    146.201751                          -554.930742   \n",
       "std       20.951473      7.841823                          2346.726344   \n",
       "min      -32.050000   -175.152556                         -9999.000000   \n",
       "25%      -23.733630    145.770950                            27.760700   \n",
       "50%      -19.243890    146.886820                            28.644100   \n",
       "75%      -16.758390    151.160540                            29.506100   \n",
       "max       43.067600    178.515000                            34.519199   \n",
       "\n",
       "       Present_Surface_Salinity_Mean_asc  Present_Surface_Salinity_max_asc  \n",
       "count                       80407.000000                      80407.000000  \n",
       "mean                         -548.574565                       -547.954825  \n",
       "std                          2348.304935                       2348.458900  \n",
       "min                         -9999.000000                      -9999.000000  \n",
       "25%                            34.939999                         35.481400  \n",
       "50%                            35.209400                         35.804901  \n",
       "75%                            35.383999                         36.019199  \n",
       "max                            40.137600                         40.922298  "
      ]
     },
     "execution_count": 6,
     "metadata": {},
     "output_type": "execute_result"
    }
   ],
   "source": [
    "#descriptive statistics\n",
    "df.describe()"
   ]
  },
  {
   "cell_type": "code",
   "execution_count": 7,
   "metadata": {},
   "outputs": [
    {
     "data": {
      "text/plain": [
       "<AxesSubplot:>"
      ]
     },
     "execution_count": 7,
     "metadata": {},
     "output_type": "execute_result"
    },
    {
     "data": {
      "image/png": "[encoded data removed]",
      "text/plain": [
       "<Figure size 432x288 with 2 Axes>"
      ]
     },
     "metadata": {
      "needs_background": "light"
     },
     "output_type": "display_data"
    }
   ],
   "source": [
    "#heatmap\n",
    "sns.heatmap(df.corr(), annot=True, cmap='coolwarm')"
   ]
  },
  {
   "cell_type": "markdown",
   "metadata": {},
   "source": [
    "# Checking Distribution"
   ]
  },
  {
   "cell_type": "code",
   "execution_count": 8,
   "metadata": {},
   "outputs": [
    {
     "name": "stderr",
     "output_type": "stream",
     "text": [
      "c:\\Users\\AbdulRaheemShahzad\\anaconda3\\lib\\site-packages\\seaborn\\distributions.py:2619: FutureWarning: `distplot` is a deprecated function and will be removed in a future version. Please adapt your code to use either `displot` (a figure-level function with similar flexibility) or `histplot` (an axes-level function for histograms).\n",
      "  warnings.warn(msg, FutureWarning)\n"
     ]
    },
    {
     "data": {
      "image/png": "[encoded data removed]",
      "text/plain": [
       "<Figure size 1440x1440 with 16 Axes>"
      ]
     },
     "metadata": {
      "needs_background": "light"
     },
     "output_type": "display_data"
    },
    {
     "name": "stderr",
     "output_type": "stream",
     "text": [
      "c:\\Users\\AbdulRaheemShahzad\\anaconda3\\lib\\site-packages\\seaborn\\distributions.py:2619: FutureWarning: `distplot` is a deprecated function and will be removed in a future version. Please adapt your code to use either `displot` (a figure-level function with similar flexibility) or `histplot` (an axes-level function for histograms).\n",
      "  warnings.warn(msg, FutureWarning)\n"
     ]
    },
    {
     "data": {
      "image/png": "[encoded data removed]",
      "text/plain": [
       "<Figure size 432x288 with 1 Axes>"
      ]
     },
     "metadata": {
      "needs_background": "light"
     },
     "output_type": "display_data"
    },
    {
     "name": "stderr",
     "output_type": "stream",
     "text": [
      "c:\\Users\\AbdulRaheemShahzad\\anaconda3\\lib\\site-packages\\seaborn\\distributions.py:2619: FutureWarning: `distplot` is a deprecated function and will be removed in a future version. Please adapt your code to use either `displot` (a figure-level function with similar flexibility) or `histplot` (an axes-level function for histograms).\n",
      "  warnings.warn(msg, FutureWarning)\n"
     ]
    },
    {
     "data": {
      "image/png": "[encoded data removed]",
      "text/plain": [
       "<Figure size 432x288 with 1 Axes>"
      ]
     },
     "metadata": {
      "needs_background": "light"
     },
     "output_type": "display_data"
    },
    {
     "name": "stderr",
     "output_type": "stream",
     "text": [
      "c:\\Users\\AbdulRaheemShahzad\\anaconda3\\lib\\site-packages\\seaborn\\distributions.py:2619: FutureWarning: `distplot` is a deprecated function and will be removed in a future version. Please adapt your code to use either `displot` (a figure-level function with similar flexibility) or `histplot` (an axes-level function for histograms).\n",
      "  warnings.warn(msg, FutureWarning)\n"
     ]
    },
    {
     "data": {
      "image/png": "[encoded data removed]",
      "text/plain": [
       "<Figure size 432x288 with 1 Axes>"
      ]
     },
     "metadata": {
      "needs_background": "light"
     },
     "output_type": "display_data"
    },
    {
     "name": "stderr",
     "output_type": "stream",
     "text": [
      "c:\\Users\\AbdulRaheemShahzad\\anaconda3\\lib\\site-packages\\seaborn\\distributions.py:2619: FutureWarning: `distplot` is a deprecated function and will be removed in a future version. Please adapt your code to use either `displot` (a figure-level function with similar flexibility) or `histplot` (an axes-level function for histograms).\n",
      "  warnings.warn(msg, FutureWarning)\n"
     ]
    },
    {
     "data": {
      "image/png": "[encoded data removed]",
      "text/plain": [
       "<Figure size 432x288 with 1 Axes>"
      ]
     },
     "metadata": {
      "needs_background": "light"
     },
     "output_type": "display_data"
    }
   ],
   "source": [
    "#checking the distribution of all lthe columns using histogram\n",
    "df.hist(figsize=(20,20), grid=True, layout=(4,4), bins=30)\n",
    "#checking the distribution of all the numerical columns using distplot\n",
    "for i in df.columns:\n",
    "    if df[i].dtype != 'object':\n",
    "        sns.distplot(df[i])\n",
    "        plt.show()\n"
   ]
  },
  {
   "cell_type": "code",
   "execution_count": 9,
   "metadata": {},
   "outputs": [
    {
     "data": {
      "text/html": [
       "<div>\n",
       "<style scoped>\n",
       "    .dataframe tbody tr th:only-of-type {\n",
       "        vertical-align: middle;\n",
       "    }\n",
       "\n",
       "    .dataframe tbody tr th {\n",
       "        vertical-align: top;\n",
       "    }\n",
       "\n",
       "    .dataframe thead th {\n",
       "        text-align: right;\n",
       "    }\n",
       "</style>\n",
       "<table border=\"1\" class=\"dataframe\">\n",
       "  <thead>\n",
       "    <tr style=\"text-align: right;\">\n",
       "      <th></th>\n",
       "      <th>latitude_c</th>\n",
       "      <th>longitude_c</th>\n",
       "      <th>species</th>\n",
       "      <th>Present_Surface_Temperature_Max_asc</th>\n",
       "      <th>Present_Surface_Salinity_Mean_asc</th>\n",
       "      <th>Present_Surface_Salinity_max_asc</th>\n",
       "    </tr>\n",
       "  </thead>\n",
       "  <tbody>\n",
       "    <tr>\n",
       "      <th>0</th>\n",
       "      <td>43.0536</td>\n",
       "      <td>144.9063</td>\n",
       "      <td>Halodule uninervis</td>\n",
       "      <td>18.897499</td>\n",
       "      <td>32.2477</td>\n",
       "      <td>33.081501</td>\n",
       "    </tr>\n",
       "    <tr>\n",
       "      <th>1</th>\n",
       "      <td>43.0566</td>\n",
       "      <td>144.9061</td>\n",
       "      <td>Halodule uninervis</td>\n",
       "      <td>18.897499</td>\n",
       "      <td>32.2477</td>\n",
       "      <td>33.081501</td>\n",
       "    </tr>\n",
       "    <tr>\n",
       "      <th>2</th>\n",
       "      <td>43.0585</td>\n",
       "      <td>144.9060</td>\n",
       "      <td>Halodule uninervis</td>\n",
       "      <td>18.897499</td>\n",
       "      <td>32.2477</td>\n",
       "      <td>33.081501</td>\n",
       "    </tr>\n",
       "    <tr>\n",
       "      <th>3</th>\n",
       "      <td>43.0621</td>\n",
       "      <td>144.9059</td>\n",
       "      <td>Halodule uninervis</td>\n",
       "      <td>18.897499</td>\n",
       "      <td>32.2477</td>\n",
       "      <td>33.081501</td>\n",
       "    </tr>\n",
       "    <tr>\n",
       "      <th>4</th>\n",
       "      <td>43.0639</td>\n",
       "      <td>144.9059</td>\n",
       "      <td>Halodule uninervis</td>\n",
       "      <td>18.897499</td>\n",
       "      <td>32.2477</td>\n",
       "      <td>33.081501</td>\n",
       "    </tr>\n",
       "  </tbody>\n",
       "</table>\n",
       "</div>"
      ],
      "text/plain": [
       "   latitude_c  longitude_c             species  \\\n",
       "0     43.0536     144.9063  Halodule uninervis   \n",
       "1     43.0566     144.9061  Halodule uninervis   \n",
       "2     43.0585     144.9060  Halodule uninervis   \n",
       "3     43.0621     144.9059  Halodule uninervis   \n",
       "4     43.0639     144.9059  Halodule uninervis   \n",
       "\n",
       "   Present_Surface_Temperature_Max_asc  Present_Surface_Salinity_Mean_asc  \\\n",
       "0                            18.897499                            32.2477   \n",
       "1                            18.897499                            32.2477   \n",
       "2                            18.897499                            32.2477   \n",
       "3                            18.897499                            32.2477   \n",
       "4                            18.897499                            32.2477   \n",
       "\n",
       "   Present_Surface_Salinity_max_asc  \n",
       "0                         33.081501  \n",
       "1                         33.081501  \n",
       "2                         33.081501  \n",
       "3                         33.081501  \n",
       "4                         33.081501  "
      ]
     },
     "execution_count": 9,
     "metadata": {},
     "output_type": "execute_result"
    }
   ],
   "source": [
    "#make a copy of df\n",
    "df1 = df.copy()\n",
    "df1.head()"
   ]
  },
  {
   "cell_type": "code",
   "execution_count": 10,
   "metadata": {},
   "outputs": [
    {
     "name": "stderr",
     "output_type": "stream",
     "text": [
      "c:\\Users\\AbdulRaheemShahzad\\anaconda3\\lib\\site-packages\\seaborn\\_decorators.py:36: FutureWarning: Pass the following variable as a keyword arg: x. From version 0.12, the only valid positional argument will be `data`, and passing other arguments without an explicit keyword will result in an error or misinterpretation.\n",
      "  warnings.warn(\n"
     ]
    },
    {
     "data": {
      "image/png": "[encoded data removed]",
      "text/plain": [
       "<Figure size 432x288 with 1 Axes>"
      ]
     },
     "metadata": {
      "needs_background": "light"
     },
     "output_type": "display_data"
    },
    {
     "name": "stderr",
     "output_type": "stream",
     "text": [
      "c:\\Users\\AbdulRaheemShahzad\\anaconda3\\lib\\site-packages\\seaborn\\_decorators.py:36: FutureWarning: Pass the following variable as a keyword arg: x. From version 0.12, the only valid positional argument will be `data`, and passing other arguments without an explicit keyword will result in an error or misinterpretation.\n",
      "  warnings.warn(\n"
     ]
    },
    {
     "data": {
      "image/png": "[encoded data removed]",
      "text/plain": [
       "<Figure size 432x288 with 1 Axes>"
      ]
     },
     "metadata": {
      "needs_background": "light"
     },
     "output_type": "display_data"
    },
    {
     "name": "stderr",
     "output_type": "stream",
     "text": [
      "c:\\Users\\AbdulRaheemShahzad\\anaconda3\\lib\\site-packages\\seaborn\\_decorators.py:36: FutureWarning: Pass the following variable as a keyword arg: x. From version 0.12, the only valid positional argument will be `data`, and passing other arguments without an explicit keyword will result in an error or misinterpretation.\n",
      "  warnings.warn(\n"
     ]
    },
    {
     "data": {
      "image/png": "[encoded data removed]",
      "text/plain": [
       "<Figure size 432x288 with 1 Axes>"
      ]
     },
     "metadata": {
      "needs_background": "light"
     },
     "output_type": "display_data"
    },
    {
     "name": "stderr",
     "output_type": "stream",
     "text": [
      "c:\\Users\\AbdulRaheemShahzad\\anaconda3\\lib\\site-packages\\seaborn\\_decorators.py:36: FutureWarning: Pass the following variable as a keyword arg: x. From version 0.12, the only valid positional argument will be `data`, and passing other arguments without an explicit keyword will result in an error or misinterpretation.\n",
      "  warnings.warn(\n"
     ]
    },
    {
     "data": {
      "image/png": "[encoded data removed]",
      "text/plain": [
       "<Figure size 432x288 with 1 Axes>"
      ]
     },
     "metadata": {
      "needs_background": "light"
     },
     "output_type": "display_data"
    },
    {
     "name": "stderr",
     "output_type": "stream",
     "text": [
      "c:\\Users\\AbdulRaheemShahzad\\anaconda3\\lib\\site-packages\\seaborn\\_decorators.py:36: FutureWarning: Pass the following variable as a keyword arg: x. From version 0.12, the only valid positional argument will be `data`, and passing other arguments without an explicit keyword will result in an error or misinterpretation.\n",
      "  warnings.warn(\n"
     ]
    },
    {
     "data": {
      "image/png": "[encoded data removed]",
      "text/plain": [
       "<Figure size 432x288 with 1 Axes>"
      ]
     },
     "metadata": {
      "needs_background": "light"
     },
     "output_type": "display_data"
    }
   ],
   "source": [
    "#cheking the distribution of all the columns using boxplot\n",
    "for i in df1.columns:\n",
    "    if df1[i].dtype != 'object':\n",
    "        sns.boxplot(df1[i])\n",
    "        plt.show()"
   ]
  },
  {
   "cell_type": "code",
   "execution_count": 11,
   "metadata": {},
   "outputs": [],
   "source": [
    "numeric_cols = df1.select_dtypes(include=[np.number])\n",
    "\n",
    "# Calculate the IQR for each numeric column\n",
    "Q1 = numeric_cols.quantile(0.01)\n",
    "Q3 = numeric_cols.quantile(0.9)\n",
    "IQR = Q3 - Q1\n",
    "\n",
    "# Define a multiplier to determine the threshold for outliers\n",
    "multiplier = 1.5\n",
    "\n",
    "# Calculate the lower and upper bounds for outliers\n",
    "lower_bound = Q1 - (multiplier * IQR)\n",
    "upper_bound = Q3 + (multiplier * IQR)\n",
    "\n",
    "# Identify the outliers using the lower and upper bounds\n",
    "outliers = ((numeric_cols < lower_bound) | (numeric_cols > upper_bound)).any(axis=1)\n",
    "outlier_indices = outliers[outliers].index\n",
    "\n",
    "# Remove the outliers from the dataframe\n",
    "clean_df = df1.drop(outlier_indices)"
   ]
  },
  {
   "cell_type": "code",
   "execution_count": 12,
   "metadata": {},
   "outputs": [
    {
     "data": {
      "text/plain": [
       "(80264, 6)"
      ]
     },
     "execution_count": 12,
     "metadata": {},
     "output_type": "execute_result"
    }
   ],
   "source": [
    "clean_df.shape"
   ]
  },
  {
   "cell_type": "code",
   "execution_count": 13,
   "metadata": {},
   "outputs": [],
   "source": [
    "# Split the data into input features (X) and output variables (y)\n",
    "X = clean_df[['Present_Surface_Temperature_Max_asc', 'Present_Surface_Salinity_Mean_asc', 'Present_Surface_Salinity_max_asc']]\n",
    "y = clean_df[['latitude_c', 'longitude_c']]\n",
    "\n",
    "# Split the data into training and testing sets\n",
    "X_train, X_test, y_train, y_test = train_test_split(X, y, test_size=0.2)"
   ]
  },
  {
   "cell_type": "code",
   "execution_count": 18,
   "metadata": {},
   "outputs": [
    {
     "name": "stdout",
     "output_type": "stream",
     "text": [
      "Score for output variable 1 using RandomForestRegressor: 0.996723361478892\n",
      "Score for output variable 2 using RandomForestRegressor: 0.968375823585603\n",
      "Score for output variable 1 using Ridge: 0.3524211537549441\n",
      "Score for output variable 2 using Ridge: 0.27433573901976027\n"
     ]
    },
    {
     "name": "stderr",
     "output_type": "stream",
     "text": [
      "c:\\Users\\AbdulRaheemShahzad\\anaconda3\\lib\\site-packages\\sklearn\\linear_model\\_coordinate_descent.py:647: ConvergenceWarning: Objective did not converge. You might want to increase the number of iterations, check the scale of the features or consider increasing regularisation. Duality gap: 1.186e+07, tolerance: 2.813e+03\n",
      "  model = cd_fast.enet_coordinate_descent(\n",
      "c:\\Users\\AbdulRaheemShahzad\\anaconda3\\lib\\site-packages\\sklearn\\linear_model\\_coordinate_descent.py:647: ConvergenceWarning: Objective did not converge. You might want to increase the number of iterations, check the scale of the features or consider increasing regularisation. Duality gap: 4.462e+05, tolerance: 2.555e+02\n",
      "  model = cd_fast.enet_coordinate_descent(\n"
     ]
    },
    {
     "name": "stdout",
     "output_type": "stream",
     "text": [
      "Score for output variable 1 using Lasso: 0.011109947760504557\n",
      "Score for output variable 2 using Lasso: 0.004435801011052121\n"
     ]
    },
    {
     "name": "stderr",
     "output_type": "stream",
     "text": [
      "c:\\Users\\AbdulRaheemShahzad\\anaconda3\\lib\\site-packages\\sklearn\\linear_model\\_coordinate_descent.py:647: ConvergenceWarning: Objective did not converge. You might want to increase the number of iterations, check the scale of the features or consider increasing regularisation. Duality gap: 1.290e+07, tolerance: 2.813e+03\n",
      "  model = cd_fast.enet_coordinate_descent(\n",
      "c:\\Users\\AbdulRaheemShahzad\\anaconda3\\lib\\site-packages\\sklearn\\linear_model\\_coordinate_descent.py:647: ConvergenceWarning: Objective did not converge. You might want to increase the number of iterations, check the scale of the features or consider increasing regularisation. Duality gap: 8.764e+05, tolerance: 2.555e+02\n",
      "  model = cd_fast.enet_coordinate_descent(\n"
     ]
    },
    {
     "name": "stdout",
     "output_type": "stream",
     "text": [
      "Score for output variable 1 using ElasticNet: 0.011116196975796688\n",
      "Score for output variable 2 using ElasticNet: 0.004468077815874993\n",
      "Score for output variable 1 using LinearRegression: 0.35241296707560854\n",
      "Score for output variable 2 using LinearRegression: 0.27433904207325477\n",
      "Score for output variable 1 using SVR: -0.15287333609338316\n",
      "Score for output variable 2 using SVR: -0.005407453328328149\n"
     ]
    },
    {
     "name": "stderr",
     "output_type": "stream",
     "text": [
      "c:\\Users\\AbdulRaheemShahzad\\anaconda3\\lib\\site-packages\\sklearn\\neural_network\\_multilayer_perceptron.py:692: ConvergenceWarning: Stochastic Optimizer: Maximum iterations (200) reached and the optimization hasn't converged yet.\n",
      "  warnings.warn(\n"
     ]
    },
    {
     "name": "stdout",
     "output_type": "stream",
     "text": [
      "Score for output variable 1 using MLPRegressor: 0.9402354940746809\n",
      "Score for output variable 2 using MLPRegressor: 0.5277826022350283\n",
      "Score for output variable 1 using KNeighborsRegressor: 0.9960799787231516\n",
      "Score for output variable 2 using KNeighborsRegressor: 0.9627728929380232\n"
     ]
    }
   ],
   "source": [
    "# List of machine learning models\n",
    "models = [RandomForestRegressor(random_state=42), Ridge(), Lasso(), ElasticNet(), LinearRegression(), SVR(), MLPRegressor(), KNeighborsRegressor()]\n",
    "\n",
    "# Loop through each model\n",
    "for model in models:\n",
    "    # Create the MultiOutputRegressor model\n",
    "    multi_model = MultiOutputRegressor(model)\n",
    "    \n",
    "    # Fit the model on the training data\n",
    "    multi_model.fit(X_train, y_train)\n",
    "    \n",
    "    # Predict on the test data\n",
    "    y_pred = multi_model.predict(X_test)\n",
    "    \n",
    "    # Calculate and print the score for each output variable\n",
    "    for i, target in enumerate(multi_model.estimators_):\n",
    "        score = target.score(X_test, y_test.iloc[:, i])\n",
    "        print(f\"Score for output variable {i+1} using {type(model).__name__}: {score}\")\n"
   ]
  },
  {
   "cell_type": "code",
   "execution_count": 16,
   "metadata": {},
   "outputs": [
    {
     "name": "stdout",
     "output_type": "stream",
     "text": [
      "Score for output variable 1 using GradientBoostingRegressor: 0.9961009625401979\n",
      "Score for output variable 2 using GradientBoostingRegressor: 0.9615908119964792\n",
      "Score for output variable 1 using AdaBoostRegressor: 0.9776170830569175\n",
      "Score for output variable 2 using AdaBoostRegressor: 0.8198426064713494\n",
      "Score for output variable 1 using DecisionTreeRegressor: 0.9966011062554618\n",
      "Score for output variable 2 using DecisionTreeRegressor: 0.9662875663758477\n",
      "Score for output variable 1 using BaggingRegressor: 0.9966982855492502\n",
      "Score for output variable 2 using BaggingRegressor: 0.9672635576917468\n",
      "Score for output variable 1 using ExtraTreesRegressor: 0.9967235945152764\n",
      "Score for output variable 2 using ExtraTreesRegressor: 0.9690652813650522\n",
      "Score for output variable 1 using XGBRegressor: 0.9967402792988767\n",
      "Score for output variable 2 using XGBRegressor: 0.9680093019780841\n"
     ]
    }
   ],
   "source": [
    "# List of machine learning models\n",
    "models = [GradientBoostingRegressor(), AdaBoostRegressor(), DecisionTreeRegressor(), BaggingRegressor(), ExtraTreesRegressor(), XGBRegressor()]\n",
    "\n",
    "# Loop through each model\n",
    "for model in models:\n",
    "    # Create the MultiOutputRegressor model\n",
    "    multi_model = MultiOutputRegressor(model)\n",
    "    \n",
    "    # Fit the model on the training data\n",
    "    multi_model.fit(X_train, y_train)\n",
    "    \n",
    "    # Predict on the test data\n",
    "    y_pred = multi_model.predict(X_test)\n",
    "    \n",
    "    # Calculate and print the score for each output variable\n",
    "    for i, target in enumerate(multi_model.estimators_):\n",
    "        score = target.score(X_test, y_test.iloc[:, i])\n",
    "        print(f\"Score for output variable {i+1} using {type(model).__name__}: {score}\")"
   ]
  },
  {
   "cell_type": "code",
   "execution_count": 14,
   "metadata": {},
   "outputs": [
    {
     "name": "stdout",
     "output_type": "stream",
     "text": [
      "0.9838584465524003\n"
     ]
    }
   ],
   "source": [
    "# Create and train the multi-output regression model\n",
    "model = MultiOutputRegressor(RandomForestRegressor(random_state=42))\n",
    "model.fit(X_train, y_train)\n",
    "\n",
    "# Print the model's score\n",
    "print(model.score(X_test, y_test))"
   ]
  },
  {
   "cell_type": "code",
   "execution_count": 15,
   "metadata": {},
   "outputs": [
    {
     "name": "stdout",
     "output_type": "stream",
     "text": [
      "0.9965865027477251\n",
      "0.9711303903570755\n"
     ]
    }
   ],
   "source": [
    "#checking score for each output variable\n",
    "print(model.estimators_[0].score(X_test, y_test.iloc[:,0]))\n",
    "print(model.estimators_[1].score(X_test, y_test.iloc[:,1]))\n"
   ]
  },
  {
   "cell_type": "code",
   "execution_count": 16,
   "metadata": {},
   "outputs": [
    {
     "name": "stdout",
     "output_type": "stream",
     "text": [
      "Score for output variable 1: 0.9965865027477251\n",
      "Score for output variable 2: 0.9711303903570755\n"
     ]
    }
   ],
   "source": [
    "from sklearn.multioutput import MultiOutputRegressor\n",
    "from sklearn.ensemble import RandomForestRegressor\n",
    "\n",
    "# Create the MultiOutputRegressor model\n",
    "rf_model = MultiOutputRegressor(RandomForestRegressor(random_state=42))\n",
    "\n",
    "# Fit the model on the training data\n",
    "rf_model.fit(X_train, y_train)\n",
    "\n",
    "# Predict on the test data\n",
    "y_pred_rf_model = rf_model.predict(X_test)\n",
    "\n",
    "# Calculate and print the score for each output variable\n",
    "for i, target in enumerate(model.estimators_):\n",
    "    score = target.score(X_test, y_test.iloc[:, i])\n",
    "    print(f\"Score for output variable {i+1}: {score}\")\n"
   ]
  },
  {
   "cell_type": "code",
   "execution_count": 17,
   "metadata": {},
   "outputs": [
    {
     "name": "stdout",
     "output_type": "stream",
     "text": [
      "Score for output variable 1: 0.9966721932513182\n",
      "Score for output variable 2: 0.9732641133765437\n"
     ]
    }
   ],
   "source": [
    "\n",
    "\n",
    "# Create the MultiOutputRegressor model\n",
    "xgb_model = MultiOutputRegressor(XGBRegressor(random_state=42))\n",
    "\n",
    "# Fit the model on the training data\n",
    "xgb_model.fit(X_train, y_train)\n",
    "\n",
    "# Predict on the test data\n",
    "y_pred_xgb_model = xgb_model.predict(X_test)\n",
    "\n",
    "# Calculate and print the score for each output variable\n",
    "for i, target in enumerate(xgb_model.estimators_):\n",
    "    score = target.score(X_test, y_test.iloc[:, i])\n",
    "    print(f\"Score for output variable {i+1}: {score}\")\n",
    "\n",
    "#dump model using pickle\n",
    "import pickle\n",
    "pickle.dump(model, open('xgb_model_one_specie.pkl','wb'))\n",
    "\n"
   ]
  },
  {
   "cell_type": "code",
   "execution_count": 18,
   "metadata": {},
   "outputs": [],
   "source": [
    "# Create the ensemble model by averaging the predictions\n",
    "ensemble_predictions = (y_pred_rf_model + y_pred_xgb_model) / 2"
   ]
  },
  {
   "cell_type": "code",
   "execution_count": 24,
   "metadata": {},
   "outputs": [
    {
     "name": "stdout",
     "output_type": "stream",
     "text": [
      "Random Forest MSE: 2.3912481323997863\n",
      "XGBoost MSE: 2.0882784653068307\n",
      "Ensemble MSE: 2.118652559612971\n"
     ]
    }
   ],
   "source": [
    "# Evaluate the mean squared error of individual models\n",
    "rf_mse = mean_squared_error(y_test, y_pred_rf_model)\n",
    "xgb_mse = mean_squared_error(y_test, y_pred_xgb_model)\n",
    "ensemble_mse = mean_squared_error(y_test, ensemble_predictions)\n",
    "\n",
    "print(\"Random Forest MSE:\", rf_mse)\n",
    "print(\"XGBoost MSE:\", xgb_mse)\n",
    "print(\"Ensemble MSE:\", ensemble_mse)\n"
   ]
  },
  {
   "cell_type": "code",
   "execution_count": 19,
   "metadata": {},
   "outputs": [
    {
     "data": {
      "text/plain": [
       "MultiOutputRegressor(estimator=VotingRegressor(estimators=[('rf',\n",
       "                                                            RandomForestRegressor()),\n",
       "                                                           ('xg',\n",
       "                                                            XGBRegressor(base_score=None,\n",
       "                                                                         booster=None,\n",
       "                                                                         callbacks=None,\n",
       "                                                                         colsample_bylevel=None,\n",
       "                                                                         colsample_bynode=None,\n",
       "                                                                         colsample_bytree=None,\n",
       "                                                                         early_stopping_rounds=None,\n",
       "                                                                         enable_categorical=False,\n",
       "                                                                         eval_metric=None,\n",
       "                                                                         feature_types=None,\n",
       "                                                                         gamma=None,\n",
       "                                                                         gpu_id=None,\n",
       "                                                                         grow_policy=None,\n",
       "                                                                         importance_type=None,\n",
       "                                                                         interaction_constraints=None,\n",
       "                                                                         learning_rate=None,\n",
       "                                                                         max_bin=None,\n",
       "                                                                         max_cat_threshold=None,\n",
       "                                                                         max_cat_to_onehot=None,\n",
       "                                                                         max_delta_step=None,\n",
       "                                                                         max_depth=None,\n",
       "                                                                         max_leaves=None,\n",
       "                                                                         min_child_weight=None,\n",
       "                                                                         missing=nan,\n",
       "                                                                         monotone_constraints=None,\n",
       "                                                                         n_estimators=100,\n",
       "                                                                         n_jobs=None,\n",
       "                                                                         num_parallel_tree=None,\n",
       "                                                                         predictor=None,\n",
       "                                                                         random_state=None, ...))]))"
      ]
     },
     "execution_count": 19,
     "metadata": {},
     "output_type": "execute_result"
    }
   ],
   "source": [
    "from sklearn.multioutput import MultiOutputRegressor\n",
    "from sklearn.ensemble import VotingRegressor\n",
    "from sklearn.ensemble import RandomForestRegressor\n",
    "from xgboost import XGBRegressor\n",
    "\n",
    "# Instantiate the individual regression models\n",
    "rf_model1 = RandomForestRegressor()\n",
    "xgb_model1 = XGBRegressor()\n",
    "\n",
    "# Create the voting regressor\n",
    "voting = MultiOutputRegressor(VotingRegressor(estimators=[('rf', rf_model1), ('xg', xgb_model1)]))\n",
    "\n",
    "# Fit the voting regressor to the training data\n",
    "voting.fit(X_train, y_train)\n"
   ]
  },
  {
   "cell_type": "code",
   "execution_count": 20,
   "metadata": {},
   "outputs": [
    {
     "name": "stdout",
     "output_type": "stream",
     "text": [
      "Score for output variable 1: 0.99666091604815\n",
      "Score for output variable 2: 0.9728469538771228\n",
      "Voting Score: 0.9847539349626364\n"
     ]
    }
   ],
   "source": [
    "# predict on the test data\n",
    "y_pred_voting = voting.predict(X_test)\n",
    "\n",
    "#eva;ute the score for each output variable\n",
    "for i, target in enumerate(voting.estimators_):\n",
    "    score = target.score(X_test, y_test.iloc[:, i])\n",
    "    print(f\"Score for output variable {i+1}: {score}\")\n",
    "\n",
    "# Calculate and print the score for the combined model\n",
    "score_voting = voting.score(X_test, y_test)\n",
    "print(f\"Voting Score: {score_voting}\")"
   ]
  },
  {
   "cell_type": "code",
   "execution_count": 21,
   "metadata": {},
   "outputs": [
    {
     "name": "stdout",
     "output_type": "stream",
     "text": [
      "Random Forest MSE: 1.3269623598389462\n",
      "XGBoost MSE: 1.2656386164170956\n",
      "Voting MSE: 1.2764199147500435\n"
     ]
    }
   ],
   "source": [
    "#MSE for each model\n",
    "rf_mse = mean_squared_error(y_test, y_pred_rf_model)\n",
    "xgb_mse = mean_squared_error(y_test, y_pred_xgb_model)\n",
    "voting_mse = mean_squared_error(y_test, y_pred_voting)\n",
    "\n",
    "print(\"Random Forest MSE:\", rf_mse)\n",
    "print(\"XGBoost MSE:\", xgb_mse)\n",
    "print(\"Voting MSE:\", voting_mse)\n"
   ]
  },
  {
   "cell_type": "code",
   "execution_count": 22,
   "metadata": {},
   "outputs": [],
   "source": [
    "#dump xgb model using pickle\n",
    "import pickle\n",
    "pickle.dump(xgb_model, open('xgb_halodule_uninrvis_current_distribution.pkl','wb'))\n"
   ]
  },
  {
   "cell_type": "code",
   "execution_count": null,
   "metadata": {},
   "outputs": [],
   "source": []
  }
 ],
 "metadata": {
  "kernelspec": {
   "display_name": "base",
   "language": "python",
   "name": "python3"
  },
  "language_info": {
   "codemirror_mode": {
    "name": "ipython",
    "version": 3
   },
   "file_extension": ".py",
   "mimetype": "text/x-python",
   "name": "python",
   "nbconvert_exporter": "python",
   "pygments_lexer": "ipython3",
   "version": "3.9.12"
  },
  "orig_nbformat": 4
 },
 "nbformat": 4,
 "nbformat_minor": 2
}
